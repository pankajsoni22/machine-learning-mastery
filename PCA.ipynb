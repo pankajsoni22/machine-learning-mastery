{
 "cells": [
  {
   "cell_type": "markdown",
   "id": "e9787cf0-63c3-47ad-bcb4-a082eab15a6b",
   "metadata": {},
   "source": [
    "### Principal Component Analysis\n",
    "PCA is a tool for dimentionality reduction with the fact that after reduction data has almost entire information which original dataset holds.\n",
    "PCA select the minimum of the data which is actually useful and filter out entire useless data so end of the day as a result we have simplified, less and easily operable data to work on.\n",
    "\n",
    "#### PCA can be understood in following steps\n",
    "\n",
    "1. **Standardization**: All the variable to be transformed to the same scale so that high range variables should not dominate low range variables (which causes the biased result).\n",
    "2. **Covariance Matrix Computation**: A square matrix of order p x p where p is number of dimentions. Matrix has the combination of variance of all the dimentions. Acually idea is to ignore high correlated variables i.e. they have redundant information.\n",
    "3. **Compute the eigenvalues and eigenvectors of the covariance matrix to identify Principal Components**: \n",
    "   - For p dimentions there will be p eigenvectors for every eigenvector there is eigenvalue\n",
    "   - Principal components are always calculated in decreasing order of variance (information they hold mathematically eigenvalue) so PC1 holds more information than PC2 and so on.\n",
    "4. **Feature Vector**: Once eigenvalues are calculated they are arranged in decreasing format and lesser important components will be left out, it does the loss of some information but that can be affordable. With rest of the component having more information a new metrix with all corresponding eigenvectors a  <i>new feature vector</i> is formed\n",
    "5. **Recast the data along the Principal Component axes**: \n",
    "FinalDataset = transponse(feature vector) * transpose(standardized original dataset)\n",
    "   "
   ]
  },
  {
   "cell_type": "code",
   "execution_count": null,
   "id": "f890c1b0-f26a-4b8d-995a-072d7a5e1546",
   "metadata": {},
   "outputs": [],
   "source": []
  }
 ],
 "metadata": {
  "kernelspec": {
   "display_name": "Python 3",
   "language": "python",
   "name": "python3"
  },
  "language_info": {
   "codemirror_mode": {
    "name": "ipython",
    "version": 3
   },
   "file_extension": ".py",
   "mimetype": "text/x-python",
   "name": "python",
   "nbconvert_exporter": "python",
   "pygments_lexer": "ipython3",
   "version": "3.8.5"
  }
 },
 "nbformat": 4,
 "nbformat_minor": 5
}
