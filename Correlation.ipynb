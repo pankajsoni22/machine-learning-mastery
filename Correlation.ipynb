{
 "cells": [
  {
   "cell_type": "markdown",
   "id": "ff95a9d0-bdf4-42bc-8ecc-8e4599487dc5",
   "metadata": {},
   "source": [
    "### Correlation:\n",
    "<p>Correlation is the degree to which two variables are linearly related. Correlation doesn't imply always causations. Following are the two important correlations : -</p>\n",
    "\n",
    "   - **Pearsonr**: Important Inference to keep in mind: The Pearson correlation can evaluate ONLY a linear relationship between two continuous variables (A relationship is linear only when a change in one variable is associated with a proportional change in the other variable)\n",
    "   \n",
    "   - **Spearmanr**: Wikipedia Definition: In statistics, Spearman’s rank correlation coefficient or Spearman’s ρ, named after Charles Spearman is a nonparametric measure of rank correlation (statistical dependence between the rankings of two variables). It assesses how well the relationship between two variables can be described using a <u>monotonic function</u>.\n",
    "   \n",
    "<a href=\"https://towardsdatascience.com/clearly-explained-pearson-v-s-spearman-correlation-coefficient-ada2f473b8\">More Read...</a>\n"
   ]
  },
  {
   "cell_type": "code",
   "execution_count": null,
   "id": "978de5e1-41e1-489d-a6ce-ffec47bdd686",
   "metadata": {},
   "outputs": [],
   "source": [
    "import scipy\n",
    "from scipy.stats.stats import pearsonr, spearmanr"
   ]
  }
 ],
 "metadata": {
  "kernelspec": {
   "display_name": "Python 3",
   "language": "python",
   "name": "python3"
  },
  "language_info": {
   "codemirror_mode": {
    "name": "ipython",
    "version": 3
   },
   "file_extension": ".py",
   "mimetype": "text/x-python",
   "name": "python",
   "nbconvert_exporter": "python",
   "pygments_lexer": "ipython3",
   "version": "3.8.5"
  }
 },
 "nbformat": 4,
 "nbformat_minor": 5
}
